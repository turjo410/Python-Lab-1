{
 "cells": [
  {
   "cell_type": "markdown",
   "id": "f7a937b6",
   "metadata": {
    "id": "f7a937b6"
   },
   "source": [
    "\n",
    "# Data Structures in Python\n",
    "\n",
    "This notebook provides an overview of some fundamental data structures in Python, including their creation, access methods, operations, and functions."
   ]
  },
  {
   "cell_type": "markdown",
   "id": "XTYfFIyVQC2Q",
   "metadata": {
    "id": "XTYfFIyVQC2Q"
   },
   "source": [
    "## 1. Strings\n",
    "Strings are sequences of characters used to store textual data.\n"
   ]
  },
  {
   "cell_type": "markdown",
   "id": "DYAn6nwlQLk4",
   "metadata": {
    "id": "DYAn6nwlQLk4"
   },
   "source": [
    "### Creating and Accessing Strings\n",
    "```python\n",
    "my_string = \"Hello, World!\"\n",
    "first_char = my_string[0]  # H\n",
    "substring = my_string[1:5]  # ello\n",
    "```"
   ]
  },
  {
   "cell_type": "code",
   "execution_count": 1,
   "id": "1kfI9IMCQPPf",
   "metadata": {
    "executionInfo": {
     "elapsed": 12,
     "status": "ok",
     "timestamp": 1707097304003,
     "user": {
      "displayName": "Mohammad Rifat Ahmmad Rashid",
      "userId": "17207620860184690696"
     },
     "user_tz": 480
    },
    "id": "1kfI9IMCQPPf"
   },
   "outputs": [],
   "source": [
    "my_string = \"Hello, World!\"\n",
    "first_char = my_string[0]  # H\n",
    "substring = my_string[1:5]  # ello"
   ]
  },
  {
   "cell_type": "markdown",
   "id": "TZw48Pn-QNyo",
   "metadata": {
    "id": "TZw48Pn-QNyo"
   },
   "source": [
    "### String Operations and Functions\n",
    "```python\n",
    "new_string = \"Hello, \" + \"World!\"  # Concatenation\n",
    "repeated_string = \"Hi! \" * 3  # Repetition\n",
    "length = len(my_string)  # Length of the string\n",
    "upper_string = my_string.upper()  # Convert to uppercase\n",
    "```"
   ]
  },
  {
   "cell_type": "code",
   "execution_count": null,
   "id": "IlyyprdMQKI4",
   "metadata": {
    "id": "IlyyprdMQKI4"
   },
   "outputs": [],
   "source": [
    "new_string = \"Hello, \" + \"World!\"  # Concatenation\n",
    "repeated_string = \"Hi! \" * 3  # Repetition\n",
    "length = len(my_string)  # Length of the string\n",
    "upper_string = my_string.upper()  # Convert to uppercase"
   ]
  },
  {
   "cell_type": "markdown",
   "id": "jDqaN0ASQWrH",
   "metadata": {
    "id": "jDqaN0ASQWrH"
   },
   "source": [
    "## 2. Lists\n",
    "Lists are ordered, changeable, and allow duplicate members.\n",
    "\n",
    "\n"
   ]
  },
  {
   "cell_type": "markdown",
   "id": "3_BWhQ-vQYrY",
   "metadata": {
    "id": "3_BWhQ-vQYrY"
   },
   "source": [
    "### Creating and Accessing Lists\n",
    "```python\n",
    "my_list = [1, 2, 3, 'Python']\n",
    "first_element = my_list[0]  # 1\n",
    "sublist = my_list[1:3]  # [2, 3]\n",
    "```\n",
    "\n"
   ]
  },
  {
   "cell_type": "code",
   "execution_count": 2,
   "id": "SbCWGRSJQf3D",
   "metadata": {
    "executionInfo": {
     "elapsed": 486,
     "status": "ok",
     "timestamp": 1707097420461,
     "user": {
      "displayName": "Mohammad Rifat Ahmmad Rashid",
      "userId": "17207620860184690696"
     },
     "user_tz": 480
    },
    "id": "SbCWGRSJQf3D"
   },
   "outputs": [],
   "source": [
    "my_list = [1, 2, 3, 'Python']\n",
    "first_element = my_list[0]  # 1\n",
    "sublist = my_list[1:3]  # [2, 3]"
   ]
  },
  {
   "cell_type": "code",
   "execution_count": 3,
   "id": "OvJuqMcM72hC",
   "metadata": {
    "colab": {
     "base_uri": "https://localhost:8080/"
    },
    "executionInfo": {
     "elapsed": 8,
     "status": "ok",
     "timestamp": 1707097434380,
     "user": {
      "displayName": "Mohammad Rifat Ahmmad Rashid",
      "userId": "17207620860184690696"
     },
     "user_tz": 480
    },
    "id": "OvJuqMcM72hC",
    "outputId": "61f0f644-1691-40fd-f55c-882c89e39939"
   },
   "outputs": [
    {
     "name": "stdout",
     "output_type": "stream",
     "text": [
      "Python\n"
     ]
    }
   ],
   "source": [
    "print(my_list[3])"
   ]
  },
  {
   "cell_type": "markdown",
   "id": "VWUUEcCdQeMY",
   "metadata": {
    "id": "VWUUEcCdQeMY"
   },
   "source": [
    "\n",
    "### List Operations and Functions\n",
    "```python\n",
    "my_list.append(4)  # Add an item\n",
    "my_list.insert(1, 'inserted')  # Insert an item\n",
    "my_list.pop()  # Remove an item\n",
    "```"
   ]
  },
  {
   "cell_type": "code",
   "execution_count": null,
   "id": "BIH_h7pgQhnI",
   "metadata": {
    "colab": {
     "base_uri": "https://localhost:8080/"
    },
    "id": "BIH_h7pgQhnI",
    "outputId": "6f79849a-8a26-4942-c684-5fac8f3319f1"
   },
   "outputs": [
    {
     "data": {
      "text/plain": [
       "4"
      ]
     },
     "execution_count": 4,
     "metadata": {},
     "output_type": "execute_result"
    }
   ],
   "source": [
    "my_list.append(4)  # Add an item\n",
    "my_list.insert(1, 'inserted')  # Insert an item\n",
    "my_list.pop()  # Remove an item"
   ]
  },
  {
   "cell_type": "markdown",
   "id": "i5Mh96VDQmzH",
   "metadata": {
    "id": "i5Mh96VDQmzH"
   },
   "source": [
    "## 3. Tuples\n",
    "Tuples are ordered and unchangeable.\n",
    "\n"
   ]
  },
  {
   "cell_type": "markdown",
   "id": "Kv7ZziRqQocf",
   "metadata": {
    "id": "Kv7ZziRqQocf"
   },
   "source": [
    "### Creating and Accessing Tuples\n",
    "```python\n",
    "my_tuple = (1, 2, 3, 'Python')\n",
    "first_element = my_tuple[0]  # 1\n",
    "subtuple = my_tuple[1:3]  # (2, 3)\n",
    "```\n",
    "\n"
   ]
  },
  {
   "cell_type": "code",
   "execution_count": null,
   "id": "vv5vIeAbQrRX",
   "metadata": {
    "id": "vv5vIeAbQrRX"
   },
   "outputs": [],
   "source": [
    "my_tuple = (1, 2, 3, 'Python')\n",
    "first_element = my_tuple[0]  # 1\n",
    "subtuple = my_tuple[1:3]  # (2, 3)"
   ]
  },
  {
   "cell_type": "markdown",
   "id": "hMcTuCTTQp_u",
   "metadata": {
    "id": "hMcTuCTTQp_u"
   },
   "source": [
    "### Tuple Operations and Functions\n",
    "```python\n",
    "new_tuple = my_tuple + (4, 5)  # Concatenation\n",
    "repeated_tuple = my_tuple * 2  # Repetition\n",
    "```"
   ]
  },
  {
   "cell_type": "code",
   "execution_count": null,
   "id": "YICQO47kP0DE",
   "metadata": {
    "id": "YICQO47kP0DE"
   },
   "outputs": [],
   "source": [
    "new_tuple = my_tuple + (4, 5)  # Concatenation\n",
    "repeated_tuple = my_tuple * 2  # Repetition"
   ]
  },
  {
   "cell_type": "code",
   "execution_count": null,
   "id": "Cv87v-xb8VEt",
   "metadata": {
    "id": "Cv87v-xb8VEt"
   },
   "outputs": [],
   "source": []
  },
  {
   "cell_type": "code",
   "execution_count": 8,
   "id": "1LK1lp768VCD",
   "metadata": {
    "colab": {
     "base_uri": "https://localhost:8080/"
    },
    "executionInfo": {
     "elapsed": 496,
     "status": "ok",
     "timestamp": 1707097731983,
     "user": {
      "displayName": "Mohammad Rifat Ahmmad Rashid",
      "userId": "17207620860184690696"
     },
     "user_tz": 480
    },
    "id": "1LK1lp768VCD",
    "outputId": "e3f597f3-e46c-42f2-9eb9-f6f98a430f13"
   },
   "outputs": [
    {
     "name": "stdout",
     "output_type": "stream",
     "text": [
      "[0, 1, 2, 3, 4, 5, 6, 7, 8, 9, [5, 5, 5]]\n",
      "[0, 1, 2, 3, 4, 5, 6, 7, 8, 9]\n"
     ]
    }
   ],
   "source": [
    "my_list = [] # empty list\n",
    "my_list2= [5,5,5]\n",
    "for i in range(10):\n",
    "  my_list.append(i)\n",
    "\n",
    "my_list.append(my_list2)\n",
    "print(my_list)\n",
    "my_list.pop()\n",
    "print(my_list)"
   ]
  },
  {
   "cell_type": "code",
   "execution_count": 9,
   "id": "5cQVX4wW8U-T",
   "metadata": {
    "colab": {
     "base_uri": "https://localhost:8080/"
    },
    "executionInfo": {
     "elapsed": 9,
     "status": "ok",
     "timestamp": 1707097785452,
     "user": {
      "displayName": "Mohammad Rifat Ahmmad Rashid",
      "userId": "17207620860184690696"
     },
     "user_tz": 480
    },
    "id": "5cQVX4wW8U-T",
    "outputId": "5c6a7e6e-ad71-4100-f8d4-8bede22fdbf3"
   },
   "outputs": [
    {
     "name": "stdout",
     "output_type": "stream",
     "text": [
      "0\n",
      "1\n",
      "2\n",
      "3\n",
      "4\n",
      "5\n",
      "6\n",
      "7\n",
      "8\n",
      "9\n"
     ]
    }
   ],
   "source": [
    "for items in my_list:\n",
    "  print(items)"
   ]
  },
  {
   "cell_type": "code",
   "execution_count": null,
   "id": "OwDgS4y48U0D",
   "metadata": {
    "id": "OwDgS4y48U0D"
   },
   "outputs": [],
   "source": []
  },
  {
   "cell_type": "markdown",
   "id": "mC65q5A0RAqI",
   "metadata": {
    "id": "mC65q5A0RAqI"
   },
   "source": [
    "\n",
    "## 4. Dictionaries\n",
    "Dictionaries are unordered, changeable, and indexed.\n",
    "\n"
   ]
  },
  {
   "cell_type": "markdown",
   "id": "StCnWVblRCdA",
   "metadata": {
    "id": "StCnWVblRCdA"
   },
   "source": [
    "### Creating and Accessing Dictionaries\n",
    "```python\n",
    "my_dict = {'name': 'Alice', 'age': 25}\n",
    "name = my_dict['name']  # Alice\n",
    "age = my_dict.get('age')  # 25\n",
    "```"
   ]
  },
  {
   "cell_type": "code",
   "execution_count": 10,
   "id": "OJkD_JJnRFOo",
   "metadata": {
    "colab": {
     "base_uri": "https://localhost:8080/"
    },
    "executionInfo": {
     "elapsed": 4,
     "status": "ok",
     "timestamp": 1707098101192,
     "user": {
      "displayName": "Mohammad Rifat Ahmmad Rashid",
      "userId": "17207620860184690696"
     },
     "user_tz": 480
    },
    "id": "OJkD_JJnRFOo",
    "outputId": "57829409-b4f3-4d18-8d24-c772d8edcb92"
   },
   "outputs": [
    {
     "name": "stdout",
     "output_type": "stream",
     "text": [
      "Alice 25\n"
     ]
    }
   ],
   "source": [
    "my_dict = {'name': 'Alice', 'age': 25}\n",
    "name = my_dict['name']  # Alice\n",
    "age = my_dict.get('age')  # 25\n",
    "print(name,age)"
   ]
  },
  {
   "cell_type": "code",
   "execution_count": 17,
   "id": "rUNW7juL-eds",
   "metadata": {
    "colab": {
     "base_uri": "https://localhost:8080/"
    },
    "executionInfo": {
     "elapsed": 3,
     "status": "ok",
     "timestamp": 1707098254433,
     "user": {
      "displayName": "Mohammad Rifat Ahmmad Rashid",
      "userId": "17207620860184690696"
     },
     "user_tz": 480
    },
    "id": "rUNW7juL-eds",
    "outputId": "95f0d5df-66c6-4847-f3a1-4381039e7b08"
   },
   "outputs": [
    {
     "name": "stdout",
     "output_type": "stream",
     "text": [
      "2022-1-60-003\n"
     ]
    }
   ],
   "source": [
    "student = {'std1':'2022-1-60-001',\n",
    "           'std2':'2022-1-60-002'}\n",
    "\n",
    "student['std3'] = '2022-1-60-003'\n",
    "print(student['std3'])"
   ]
  },
  {
   "cell_type": "code",
   "execution_count": 21,
   "id": "u33I285G_GQ9",
   "metadata": {
    "executionInfo": {
     "elapsed": 8,
     "status": "ok",
     "timestamp": 1707098374600,
     "user": {
      "displayName": "Mohammad Rifat Ahmmad Rashid",
      "userId": "17207620860184690696"
     },
     "user_tz": 480
    },
    "id": "u33I285G_GQ9"
   },
   "outputs": [],
   "source": [
    "student = {}\n",
    "for i in range(10):\n",
    "  student[\"std\"] = \"student \"+str(i)\n"
   ]
  },
  {
   "cell_type": "code",
   "execution_count": 22,
   "id": "HajYkt4R_WwU",
   "metadata": {
    "colab": {
     "base_uri": "https://localhost:8080/"
    },
    "executionInfo": {
     "elapsed": 5,
     "status": "ok",
     "timestamp": 1707098378051,
     "user": {
      "displayName": "Mohammad Rifat Ahmmad Rashid",
      "userId": "17207620860184690696"
     },
     "user_tz": 480
    },
    "id": "HajYkt4R_WwU",
    "outputId": "42da3588-f780-4b7a-8f83-0bac247b12f8"
   },
   "outputs": [
    {
     "name": "stdout",
     "output_type": "stream",
     "text": [
      "{'0std': 'student 0', '1std': 'student 1', '2std': 'student 2', '3std': 'student 3', '4std': 'student 4', '5std': 'student 5', '6std': 'student 6', '7std': 'student 7', '8std': 'student 8', '9std': 'student 9'}\n"
     ]
    }
   ],
   "source": [
    "print(student)"
   ]
  },
  {
   "cell_type": "markdown",
   "id": "7YPs6aPVREHq",
   "metadata": {
    "id": "7YPs6aPVREHq"
   },
   "source": [
    "### Dictionary Operations and Functions\n",
    "```python\n",
    "my_dict['email'] = 'alice@example.com'  # Add or update\n",
    "my_dict.pop('age')  # Remove an item\n",
    "```"
   ]
  },
  {
   "cell_type": "code",
   "execution_count": null,
   "id": "PfAwjQc_RHnw",
   "metadata": {
    "colab": {
     "base_uri": "https://localhost:8080/"
    },
    "id": "PfAwjQc_RHnw",
    "outputId": "a44f9d8f-2feb-4f87-8660-25eeedf3e00d"
   },
   "outputs": [
    {
     "data": {
      "text/plain": [
       "25"
      ]
     },
     "execution_count": 8,
     "metadata": {},
     "output_type": "execute_result"
    }
   ],
   "source": [
    "my_dict['email'] = 'alice@example.com'  # Add or update\n",
    "my_dict.pop('age')  # Remove an item"
   ]
  },
  {
   "cell_type": "markdown",
   "id": "VpFNIOQ0RNQh",
   "metadata": {
    "id": "VpFNIOQ0RNQh"
   },
   "source": [
    "## 5. Sets\n",
    "Sets are unordered collections of unique elements.\n",
    "\n",
    "\n"
   ]
  },
  {
   "cell_type": "markdown",
   "id": "lNz9DoGDRO0o",
   "metadata": {
    "id": "lNz9DoGDRO0o"
   },
   "source": [
    "### Creating and Accessing Sets\n",
    "```python\n",
    "my_set = {1, 2, 3}\n",
    "for item in my_set:\n",
    "    print(item)\n",
    "print(2 in my_set)  # Check for presence\n",
    "```\n",
    "\n"
   ]
  },
  {
   "cell_type": "code",
   "execution_count": null,
   "id": "rzUa_7mDRSPA",
   "metadata": {
    "colab": {
     "base_uri": "https://localhost:8080/"
    },
    "id": "rzUa_7mDRSPA",
    "outputId": "84656f97-5d03-477a-9c06-f3309855bd4c"
   },
   "outputs": [
    {
     "name": "stdout",
     "output_type": "stream",
     "text": [
      "1\n",
      "2\n",
      "3\n",
      "True\n"
     ]
    }
   ],
   "source": [
    "my_set = {1, 2, 3}\n",
    "for item in my_set:\n",
    "    print(item)\n",
    "print(2 in my_set)  # Check for presence"
   ]
  },
  {
   "cell_type": "markdown",
   "id": "7cpmC6W3RQrI",
   "metadata": {
    "id": "7cpmC6W3RQrI"
   },
   "source": [
    "### Set Operations and Functions\n",
    "```python\n",
    "my_set.add(4)  # Add an item\n",
    "my_set.update([4, 5, 6])  # Add multiple items\n",
    "my_set.remove(4)  # Remove an item\n",
    "union_set = my_set.union({3, 4, 5})  # Union of sets\n",
    "```"
   ]
  },
  {
   "cell_type": "code",
   "execution_count": null,
   "id": "0mB8LXoQRTmI",
   "metadata": {
    "id": "0mB8LXoQRTmI"
   },
   "outputs": [],
   "source": [
    "my_set.add(4)  # Add an item\n",
    "my_set.update([4, 5, 6])  # Add multiple items\n",
    "my_set.remove(4)  # Remove an item\n",
    "union_set = my_set.union({3, 4, 5})  # Union of sets"
   ]
  },
  {
   "cell_type": "markdown",
   "id": "tqRwSSYkRviG",
   "metadata": {
    "id": "tqRwSSYkRviG"
   },
   "source": [
    "## 6. List Comprehension\n",
    "List comprehension offers a shorter syntax when you want to create a new list based on the values of an existing list. It's often appreciated for its conciseness and readability compared to traditional for loops and map/filter functions."
   ]
  },
  {
   "cell_type": "markdown",
   "id": "LsEPQLL4Rz9H",
   "metadata": {
    "id": "LsEPQLL4Rz9H"
   },
   "source": [
    "Syntax of List Comprehension\n",
    "The basic syntax is:\n",
    "\n",
    "```\n",
    "newlist = [expression for item in iterable if condition == True]\n",
    "\n",
    "```\n",
    "Features\n",
    "* Expression: This is the current item in the iteration, but it is also the outcome, which you can manipulate before it ends up like a list item in the new list.\n",
    "* Item: The current item in the iteration (each loop).\n",
    "* Iterable: The list, set, dictionary, or any other iterable object that you want to loop through.\n",
    "* Condition: (Optional) A way to filter out items from the new list.\n"
   ]
  },
  {
   "cell_type": "code",
   "execution_count": null,
   "id": "TpnezfAdQuPP",
   "metadata": {
    "id": "TpnezfAdQuPP"
   },
   "outputs": [],
   "source": [
    "# Creating a simple list of squares:.\n",
    "\n",
    "squares = [x**2 for x in range(10)]\n"
   ]
  },
  {
   "cell_type": "code",
   "execution_count": null,
   "id": "n2gAtKPASgl9",
   "metadata": {
    "id": "n2gAtKPASgl9"
   },
   "outputs": [],
   "source": [
    "# Creating a list using a condition:\n",
    "even_numbers = [x for x in range(20) if x % 2 == 0]\n",
    "\n"
   ]
  },
  {
   "cell_type": "code",
   "execution_count": null,
   "id": "-KWtg9m6SmDD",
   "metadata": {
    "id": "-KWtg9m6SmDD"
   },
   "outputs": [],
   "source": [
    "# Using multiple for loops (producing all combinations of two different lists):\n",
    "combined = [(x, y) for x in [1,2,3] for y in [3,4,5] if x != y]\n"
   ]
  },
  {
   "cell_type": "code",
   "execution_count": null,
   "id": "5yX29GGFSruP",
   "metadata": {
    "id": "5yX29GGFSruP"
   },
   "outputs": [],
   "source": [
    "# Using the expression as a function:\n",
    "formatted_names = [name.strip().lower() for name in [\" Alice \", \"BOB \", \"CaRoL \"]]\n"
   ]
  },
  {
   "cell_type": "code",
   "execution_count": null,
   "id": "wdyQBA-gSw9D",
   "metadata": {
    "id": "wdyQBA-gSw9D"
   },
   "outputs": [],
   "source": []
  }
 ],
 "metadata": {
  "colab": {
   "provenance": []
  },
  "kernelspec": {
   "display_name": "Python 3",
   "name": "python3"
  },
  "language_info": {
   "name": "python"
  }
 },
 "nbformat": 4,
 "nbformat_minor": 5
}
