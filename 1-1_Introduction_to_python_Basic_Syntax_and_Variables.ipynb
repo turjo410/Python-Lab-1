{
 "cells": [
  {
   "cell_type": "markdown",
   "id": "2e9852a9",
   "metadata": {
    "id": "2e9852a9"
   },
   "source": [
    "## Basic Syntax and Variables"
   ]
  },
  {
   "cell_type": "markdown",
   "id": "6be32776",
   "metadata": {
    "id": "6be32776"
   },
   "source": [
    "### Python syntax\n",
    "Python syntax is clean and easy to understand. It emphasizes readability and therefore, reduces the cost of program maintenance."
   ]
  },
  {
   "cell_type": "code",
   "execution_count": 2,
   "id": "e6fc8b52",
   "metadata": {
    "colab": {
     "base_uri": "https://localhost:8080/"
    },
    "id": "e6fc8b52",
    "outputId": "41bb1688-b8fc-4c5e-ad95-d196d624c14b"
   },
   "outputs": [
    {
     "name": "stdout",
     "output_type": "stream",
     "text": [
      "Hello, world!sss 12\n"
     ]
    }
   ],
   "source": [
    "print('Hello, world!sss 12')"
   ]
  },
  {
   "cell_type": "markdown",
   "id": "0715a7dd",
   "metadata": {
    "id": "0715a7dd"
   },
   "source": [
    "### Commenting code\n",
    "Comments are important to explain the code. Single-line comments start with #, and multi-line comments can be created with triple quotes (''' or \" )."
   ]
  },
  {
   "cell_type": "code",
   "execution_count": null,
   "id": "556a3b0b",
   "metadata": {
    "colab": {
     "base_uri": "https://localhost:8080/",
     "height": 36
    },
    "id": "556a3b0b",
    "outputId": "3f6229f8-f949-4c12-d86d-93d312b259ec"
   },
   "outputs": [
    {
     "data": {
      "application/vnd.google.colaboratory.intrinsic+json": {
       "type": "string"
      },
      "text/plain": [
       "'This is a\\nmulti-line comment'"
      ]
     },
     "execution_count": 2,
     "metadata": {},
     "output_type": "execute_result"
    }
   ],
   "source": [
    "# This is a single-line comment\n",
    "'''This is a\n",
    "multi-line comment'''\n",
    "\"\"\"\n",
    "\n",
    "\n",
    "\n",
    "\"\"\""
   ]
  },
  {
   "cell_type": "markdown",
   "id": "0599e46b",
   "metadata": {
    "id": "0599e46b"
   },
   "source": [
    "### Variables and types\n",
    "Variables are containers for storing data values. Python has various standard data types such as Numbers, String, List, Tuple, and Dictionary."
   ]
  },
  {
   "cell_type": "code",
   "execution_count": null,
   "id": "fd5bad82",
   "metadata": {
    "id": "fd5bad82"
   },
   "outputs": [],
   "source": [
    "x = 5 # int\n",
    "y = 'John' # str\n",
    "z = 4.5 # float"
   ]
  },
  {
   "cell_type": "markdown",
   "id": "36f14cbe",
   "metadata": {
    "id": "36f14cbe"
   },
   "source": [
    "## 2.2. Operators"
   ]
  },
  {
   "cell_type": "markdown",
   "id": "84fa25fd",
   "metadata": {
    "id": "84fa25fd"
   },
   "source": [
    "### Arithmetic operators\n",
    "Used to perform mathematical operations like addition (+), subtraction (-), multiplication (*), etc.\n",
    "\n",
    "Used to perform mathematical operations like addition, subtraction, multiplication, etc."
   ]
  },
  {
   "cell_type": "code",
   "execution_count": null,
   "id": "506ab31e",
   "metadata": {
    "id": "506ab31e"
   },
   "outputs": [],
   "source": [
    "x = 5 + 2 # Addition\n",
    "y = 5 - 2 # Subtraction\n",
    "z = 5 * 2 # Multiplication"
   ]
  },
  {
   "cell_type": "markdown",
   "id": "957a0f7f",
   "metadata": {
    "id": "957a0f7f"
   },
   "source": [
    "### Comparison operators\n",
    "Used to compare values. It either returns True or False according to the condition.\n",
    "\n",
    "Used to compare two values. Operators include\n",
    "\n",
    "\n",
    "```\n",
    "== (Equal)\n",
    "\n",
    "!= (Not equal)\n",
    "\n",
    "> (Greater than)\n",
    "\n",
    "< (Less than)\n",
    "\n",
    ">= (Greater than or equal to)\n",
    "\n",
    "<= (Less than or equal to)\n",
    "\n",
    "```\n"
   ]
  },
  {
   "cell_type": "code",
   "execution_count": null,
   "id": "ef5ce4f6",
   "metadata": {
    "colab": {
     "base_uri": "https://localhost:8080/"
    },
    "id": "ef5ce4f6",
    "outputId": "bdcf19db-c8e7-4f0a-9d0c-7e246ad9dc1d"
   },
   "outputs": [
    {
     "name": "stdout",
     "output_type": "stream",
     "text": [
      "True\n"
     ]
    }
   ],
   "source": [
    "x = 5\n",
    "y = 2\n",
    "print(x > y) # Returns True because 5 is greater than 2"
   ]
  },
  {
   "cell_type": "markdown",
   "id": "df476e8a",
   "metadata": {
    "id": "df476e8a"
   },
   "source": [
    "### Logical operators\n",
    "Used to combine conditional statements. Includes and, or, not.\n",
    "\n",
    "Used to combine conditional statements. Includes\n",
    "* and (Returns True if both statements are true),\n",
    "* or (Returns True if one of the statements is true),\n",
    "* not (Reverse the result, returns False if the result is true)."
   ]
  },
  {
   "cell_type": "code",
   "execution_count": 2,
   "id": "cf0d48ca",
   "metadata": {
    "colab": {
     "base_uri": "https://localhost:8080/"
    },
    "id": "cf0d48ca",
    "outputId": "7150ef2d-1256-4cc9-9874-3558580a6cbc"
   },
   "outputs": [
    {
     "name": "stdout",
     "output_type": "stream",
     "text": [
      "True\n"
     ]
    }
   ],
   "source": [
    "x = True\n",
    "y = False\n",
    "z = True\n",
    "print(x and y or z) # Returns False because y is False"
   ]
  },
  {
   "cell_type": "markdown",
   "id": "d7bea1ea",
   "metadata": {
    "id": "d7bea1ea"
   },
   "source": [
    "### Assignment operators\n",
    "Used to assign values to variables. Includes =, +=, -=, etc.\n",
    "\n",
    "Used to assign values to variables. The basic assignment operator is =, others include +=, -=, etc."
   ]
  },
  {
   "cell_type": "code",
   "execution_count": null,
   "id": "28b6d36f",
   "metadata": {
    "colab": {
     "base_uri": "https://localhost:8080/"
    },
    "id": "28b6d36f",
    "outputId": "7e3340f9-fd3a-40d6-a27d-83db52e90e73"
   },
   "outputs": [
    {
     "name": "stdout",
     "output_type": "stream",
     "text": [
      "8\n"
     ]
    }
   ],
   "source": [
    "x = 5\n",
    "x += 3 # x = x + 3\n",
    "print(x)"
   ]
  },
  {
   "cell_type": "markdown",
   "id": "e7ec1ecc",
   "metadata": {
    "id": "e7ec1ecc"
   },
   "source": [
    "## 2.3. Basic Input and Output"
   ]
  },
  {
   "cell_type": "markdown",
   "id": "d9459916",
   "metadata": {
    "id": "d9459916"
   },
   "source": [
    "### print() function\n",
    "Used to print the specified message to the screen, or other standard output device."
   ]
  },
  {
   "cell_type": "code",
   "execution_count": null,
   "id": "aab631fb",
   "metadata": {
    "colab": {
     "base_uri": "https://localhost:8080/"
    },
    "id": "aab631fb",
    "outputId": "cff24089-68f6-489f-8aab-e8c1cf5e22e8"
   },
   "outputs": [
    {
     "name": "stdout",
     "output_type": "stream",
     "text": [
      "Hello, world!\n"
     ]
    }
   ],
   "source": [
    "print('Hello, world!')"
   ]
  },
  {
   "cell_type": "markdown",
   "id": "1b4fba18",
   "metadata": {
    "id": "1b4fba18"
   },
   "source": [
    "### input() function\n",
    "Allows user input."
   ]
  },
  {
   "cell_type": "code",
   "execution_count": 4,
   "id": "162bd81b",
   "metadata": {
    "colab": {
     "base_uri": "https://localhost:8080/"
    },
    "id": "162bd81b",
    "outputId": "cdcb592a-ec5a-42e5-85df-dc0fe3ece95c"
   },
   "outputs": [
    {
     "name": "stdout",
     "output_type": "stream",
     "text": [
      "Kire Niga\n"
     ]
    }
   ],
   "source": [
    "name = input(\"Enter Your friggin name\")\n",
    "print(\"Kire\",name)"
   ]
  },
  {
   "cell_type": "markdown",
   "id": "17ac58fa",
   "metadata": {
    "id": "17ac58fa"
   },
   "source": [
    "## 2.4. Control Structures"
   ]
  },
  {
   "cell_type": "markdown",
   "id": "7757faa8",
   "metadata": {
    "id": "7757faa8"
   },
   "source": [
    "### if, else, and elif\n",
    "Used for decision making. 'if' checks a condition, 'elif' checks another condition if the previous was false, and 'else' executes if all conditions are false."
   ]
  },
  {
   "cell_type": "code",
   "execution_count": null,
   "id": "978384dc",
   "metadata": {
    "colab": {
     "base_uri": "https://localhost:8080/"
    },
    "id": "978384dc",
    "outputId": "0f236d81-6e28-44b0-9008-04275c34070f"
   },
   "outputs": [
    {
     "name": "stdout",
     "output_type": "stream",
     "text": [
      "x is less than 10\n"
     ]
    }
   ],
   "source": [
    "x = 2\n",
    "if x > 10:\n",
    "    print('x is greater than 10')\n",
    "elif x == 10:\n",
    "    print('x is 10')\n",
    "else:\n",
    "    print('x is less than 10')"
   ]
  },
  {
   "cell_type": "code",
   "execution_count": 8,
   "id": "1fb26549",
   "metadata": {},
   "outputs": [
    {
     "name": "stdout",
     "output_type": "stream",
     "text": [
      "Nika mamu 3\n"
     ]
    }
   ],
   "source": [
    "x = 1\n",
    "y = 3.5\n",
    "z = 3\n",
    "\n",
    "if (x > y ):\n",
    "    print (\"x mamu \",x)\n",
    "elif(z > y):\n",
    "    print(\"Y mamu \",y)\n",
    "else:\n",
    "    print(\"Nika mamu\",z)"
   ]
  },
  {
   "cell_type": "markdown",
   "id": "52d56b2a",
   "metadata": {
    "id": "52d56b2a"
   },
   "source": [
    "### for loops\n",
    "Used for iterating over a sequence (that is either a list, a tuple, a dictionary, a set, or a string)."
   ]
  },
  {
   "cell_type": "code",
   "execution_count": null,
   "id": "3d6e3221",
   "metadata": {
    "colab": {
     "base_uri": "https://localhost:8080/"
    },
    "id": "3d6e3221",
    "outputId": "29ea76fe-b7e6-4dd6-bb1e-f86da2dd5b05"
   },
   "outputs": [
    {
     "name": "stdout",
     "output_type": "stream",
     "text": [
      "apple\n",
      "banana\n",
      "cherry\n",
      "0\n",
      "1\n",
      "2\n",
      "3\n",
      "4\n",
      "0 apple\n",
      "1 banana\n",
      "2 cherry\n"
     ]
    }
   ],
   "source": [
    "fruits = ['apple', 'banana', 'cherry']\n",
    "for x in fruits:\n",
    "    print(x)\n",
    "\n",
    "# Looping through a range of numbers\n",
    "for i in range(5):\n",
    "    print(i)\n",
    "\n",
    "# Using the enumerate function to get index and value\n",
    "for index, fruit in enumerate(['apple', 'banana', 'cherry']):\n",
    "    print(index, fruit)"
   ]
  },
  {
   "cell_type": "code",
   "execution_count": 13,
   "id": "9cf429a6",
   "metadata": {},
   "outputs": [
    {
     "name": "stdout",
     "output_type": "stream",
     "text": [
      "1 cpu\n",
      "2 gpu\n",
      "3 ppu\n"
     ]
    }
   ],
   "source": [
    "pc = [\"cpu\",\"gpu\",\"ppu\"]\n",
    "for i in range(len(pc)):\n",
    "    print(i+1,pc[i])"
   ]
  },
  {
   "cell_type": "markdown",
   "id": "a3361bc2",
   "metadata": {
    "id": "a3361bc2"
   },
   "source": [
    "### while loops\n",
    "Repeatedly executes the program body as long as the condition is true."
   ]
  },
  {
   "cell_type": "code",
   "execution_count": null,
   "id": "1e9650de",
   "metadata": {
    "colab": {
     "base_uri": "https://localhost:8080/"
    },
    "id": "1e9650de",
    "outputId": "763e1d4b-14ac-45b1-9734-4bf881861dd6"
   },
   "outputs": [
    {
     "name": "stdout",
     "output_type": "stream",
     "text": [
      "0\n",
      "1\n",
      "2\n",
      "3\n",
      "4\n"
     ]
    }
   ],
   "source": [
    "# Using a while loop with a break statement\n",
    "i = 0\n",
    "while True:\n",
    "    print(i)\n",
    "    i += 1\n",
    "    if i >= 5:\n",
    "        break\n",
    "\n",
    "# Using a while loop with a continue statement\n",
    "i = 0\n",
    "while i < 10:\n",
    "    i += 1\n",
    "    if i % 2 == 0:\n",
    "        continue\n",
    "    print(i)\n"
   ]
  },
  {
   "cell_type": "markdown",
   "id": "dfd624ef",
   "metadata": {
    "id": "dfd624ef"
   },
   "source": [
    "### Nested loops and conditions\n",
    "You can nest loops and conditional statements inside one another."
   ]
  },
  {
   "cell_type": "code",
   "execution_count": null,
   "id": "f68a6d36",
   "metadata": {
    "colab": {
     "base_uri": "https://localhost:8080/"
    },
    "id": "f68a6d36",
    "outputId": "21a339cb-9906-4f7c-b973-6b666314b515"
   },
   "outputs": [
    {
     "name": "stdout",
     "output_type": "stream",
     "text": [
      "1 2\n",
      "1 3\n",
      "2 1\n",
      "2 3\n",
      "3 1\n",
      "3 2\n"
     ]
    }
   ],
   "source": [
    "for i in range(1, 4):\n",
    "    for j in range(1, 4):\n",
    "        if i == j:\n",
    "            continue\n",
    "        print(i, j)"
   ]
  },
  {
   "cell_type": "code",
   "execution_count": 4,
   "id": "0b70ba1a",
   "metadata": {},
   "outputs": [
    {
     "name": "stdout",
     "output_type": "stream",
     "text": [
      "* \n",
      "* \n",
      "* \n",
      "* \n",
      "* \n",
      "* \n",
      "* \n",
      "* \n",
      "* \n",
      "* \n",
      "* \n",
      "* \n",
      "* \n",
      "* \n",
      "* \n",
      "* \n",
      "* \n",
      "* \n",
      "* \n",
      "* \n",
      "* \n",
      "* \n",
      "* \n",
      "* \n",
      "* \n"
     ]
    }
   ],
   "source": [
    "for i in range(5):\n",
    "    for j in range(5):\n",
    "        print(\"*\",'')\n",
    "        "
   ]
  },
  {
   "cell_type": "markdown",
   "id": "bEAVRbvkxSCZ",
   "metadata": {
    "id": "bEAVRbvkxSCZ"
   },
   "source": [
    "# Class"
   ]
  },
  {
   "cell_type": "code",
   "execution_count": null,
   "id": "8VfpUjIkwQM2",
   "metadata": {
    "colab": {
     "base_uri": "https://localhost:8080/"
    },
    "executionInfo": {
     "elapsed": 3543,
     "status": "ok",
     "timestamp": 1707094781123,
     "user": {
      "displayName": "Mohammad Rifat Ahmmad Rashid",
      "userId": "17207620860184690696"
     },
     "user_tz": 480
    },
    "id": "8VfpUjIkwQM2",
    "outputId": "40063461-cfde-4d57-f69f-3950499fe72c"
   },
   "outputs": [
    {
     "name": "stdout",
     "output_type": "stream",
     "text": [
      "Enter a value:5\n",
      "Enter a value:5\n",
      "Sum of two digit is 10\n"
     ]
    }
   ],
   "source": [
    "number1 = int(input(\"Enter a value:\"))\n",
    "number2 = int(input(\"Enter a value:\"))\n",
    "\n",
    "sum = number1+number2\n",
    "\n",
    "print(\"Sum of two digit is\",sum)"
   ]
  },
  {
   "cell_type": "code",
   "execution_count": 10,
   "id": "2307fb89",
   "metadata": {},
   "outputs": [
    {
     "name": "stdout",
     "output_type": "stream",
     "text": [
      "A simple Calculator: \n",
      "\n",
      "16 8 3.0 3 48 0 20736\n",
      "<class 'float'>\n"
     ]
    }
   ],
   "source": [
    "print(\"A simple Calculator: \\n\")\n",
    "number1 = int(input(\"Enter a value:\"))\n",
    "number2 = int(input(\"Enter another value\"))\n",
    "\n",
    "sum = number1 +number2\n",
    "min = number1 - number2\n",
    "div = number1 / number2\n",
    "div_int = number1// number2\n",
    "multi = number1 * number2\n",
    "mod = number1 % number2\n",
    "expo = number1 ** number2\n",
    "\n",
    "print(sum,min,div,div_int,multi,mod,expo)\n",
    "print(type(div))\n",
    "\n",
    "#print(sum)"
   ]
  },
  {
   "cell_type": "code",
   "execution_count": null,
   "id": "3ugUoJRewUQ-",
   "metadata": {
    "colab": {
     "base_uri": "https://localhost:8080/"
    },
    "executionInfo": {
     "elapsed": 8,
     "status": "ok",
     "timestamp": 1707094715183,
     "user": {
      "displayName": "Mohammad Rifat Ahmmad Rashid",
      "userId": "17207620860184690696"
     },
     "user_tz": 480
    },
    "id": "3ugUoJRewUQ-",
    "outputId": "5cd1c4ca-583a-4a5b-a27e-cfc6df6ed1a5"
   },
   "outputs": [
    {
     "name": "stdout",
     "output_type": "stream",
     "text": [
      "5\n"
     ]
    }
   ],
   "source": [
    "print(name)"
   ]
  },
  {
   "cell_type": "code",
   "execution_count": null,
   "id": "Lhe01GQFwWcF",
   "metadata": {
    "colab": {
     "base_uri": "https://localhost:8080/"
    },
    "executionInfo": {
     "elapsed": 4395,
     "status": "ok",
     "timestamp": 1707095212340,
     "user": {
      "displayName": "Mohammad Rifat Ahmmad Rashid",
      "userId": "17207620860184690696"
     },
     "user_tz": 480
    },
    "id": "Lhe01GQFwWcF",
    "outputId": "af985e11-c2cd-4746-c0a5-0da54cd20f0e"
   },
   "outputs": [
    {
     "name": "stdout",
     "output_type": "stream",
     "text": [
      "Enter the value for number1:8\n",
      "Enter the value for number2:8\n",
      "Result of Sum= 16\n",
      "Result of Sub= 0\n",
      "Result of Mul= 64\n",
      "Result of Div= 1.0\n"
     ]
    }
   ],
   "source": [
    "num1 = int(input(\"Enter the value for number1:\"))\n",
    "num2 = int(input(\"Enter the value for number2:\"))\n",
    "\n",
    "sum = num1 + num2\n",
    "sub = num1 - num2\n",
    "mul = num1 * num2\n",
    "div = num1 / num2\n",
    "\n",
    "print(\"Result of Sum=\",sum)\n",
    "print(\"Result of Sub=\",sub)\n",
    "print(\"Result of Mul=\",mul)\n",
    "print(\"Result of Div=\",div)\n"
   ]
  },
  {
   "cell_type": "code",
   "execution_count": null,
   "id": "2p8dDoY8y1T6",
   "metadata": {
    "colab": {
     "base_uri": "https://localhost:8080/"
    },
    "executionInfo": {
     "elapsed": 8,
     "status": "ok",
     "timestamp": 1707095828068,
     "user": {
      "displayName": "Mohammad Rifat Ahmmad Rashid",
      "userId": "17207620860184690696"
     },
     "user_tz": 480
    },
    "id": "2p8dDoY8y1T6",
    "outputId": "a79873be-613c-490b-c065-27b0fd88eb7b"
   },
   "outputs": [
    {
     "name": "stdout",
     "output_type": "stream",
     "text": [
      "8 is equal to 8\n"
     ]
    }
   ],
   "source": [
    "if num1 > num2:\n",
    "  print(num1,\"is greater than \",num2)\n",
    "  if num1 == 8:\n",
    "    print(\"The value is\",num1)\n",
    "  else:\n",
    "    print(\"The value is\", num2)\n",
    "elif num1 == num2:\n",
    "  print(num1,\"is equal to\",num2)\n",
    "else:\n",
    "  print(num1,\"is less than\",num2)"
   ]
  },
  {
   "cell_type": "code",
   "execution_count": null,
   "id": "KOS9hw_k1egx",
   "metadata": {
    "colab": {
     "base_uri": "https://localhost:8080/"
    },
    "executionInfo": {
     "elapsed": 3,
     "status": "ok",
     "timestamp": 1707096051094,
     "user": {
      "displayName": "Mohammad Rifat Ahmmad Rashid",
      "userId": "17207620860184690696"
     },
     "user_tz": 480
    },
    "id": "KOS9hw_k1egx",
    "outputId": "debd630b-254e-46fa-cfd0-68ec209ad318"
   },
   "outputs": [
    {
     "name": "stdout",
     "output_type": "stream",
     "text": [
      "0\n",
      "1\n",
      "2\n",
      "3\n",
      "4\n",
      "5\n",
      "6\n",
      "7\n",
      "8\n",
      "9\n",
      "10\n",
      "11\n",
      "12\n",
      "13\n",
      "14\n",
      "15\n",
      "16\n",
      "17\n",
      "18\n",
      "19\n",
      "20\n",
      "21\n",
      "22\n",
      "23\n",
      "24\n",
      "25\n",
      "26\n",
      "27\n",
      "28\n",
      "29\n",
      "30\n",
      "31\n",
      "32\n",
      "33\n",
      "34\n",
      "35\n",
      "36\n",
      "37\n",
      "38\n",
      "39\n",
      "40\n",
      "41\n",
      "42\n",
      "43\n",
      "44\n",
      "45\n",
      "46\n",
      "47\n",
      "48\n",
      "49\n",
      "50\n",
      "51\n",
      "52\n",
      "53\n",
      "54\n",
      "55\n",
      "56\n",
      "57\n",
      "58\n",
      "59\n",
      "60\n",
      "61\n",
      "62\n",
      "63\n",
      "64\n",
      "65\n",
      "66\n",
      "67\n",
      "68\n",
      "69\n",
      "70\n",
      "71\n",
      "72\n",
      "73\n",
      "74\n",
      "75\n",
      "76\n",
      "77\n",
      "78\n",
      "79\n",
      "80\n",
      "81\n",
      "82\n",
      "83\n",
      "84\n",
      "85\n",
      "86\n",
      "87\n",
      "88\n",
      "89\n",
      "90\n",
      "91\n",
      "92\n",
      "93\n",
      "94\n",
      "95\n",
      "96\n",
      "97\n",
      "98\n",
      "99\n"
     ]
    }
   ],
   "source": [
    "for i in range(100):\n",
    "  print(i)"
   ]
  },
  {
   "cell_type": "code",
   "execution_count": null,
   "id": "Rw_vdYtk2of5",
   "metadata": {
    "id": "Rw_vdYtk2of5"
   },
   "outputs": [],
   "source": []
  }
 ],
 "metadata": {
  "colab": {
   "provenance": []
  },
  "kernelspec": {
   "display_name": ".venv",
   "language": "python",
   "name": "python3"
  },
  "language_info": {
   "codemirror_mode": {
    "name": "ipython",
    "version": 3
   },
   "file_extension": ".py",
   "mimetype": "text/x-python",
   "name": "python",
   "nbconvert_exporter": "python",
   "pygments_lexer": "ipython3",
   "version": "3.13.2"
  }
 },
 "nbformat": 4,
 "nbformat_minor": 5
}
